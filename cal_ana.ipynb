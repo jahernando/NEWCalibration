{
 "cells": [
  {
   "cell_type": "markdown",
   "metadata": {},
   "source": [
    "# calibration analysis"
   ]
  },
  {
   "cell_type": "markdown",
   "metadata": {},
   "source": [
    "Ana the calibration parameters from different calibration runs"
   ]
  },
  {
   "cell_type": "code",
   "execution_count": 19,
   "metadata": {
    "collapsed": false
   },
   "outputs": [
    {
     "name": "stdout",
     "output_type": "stream",
     "text": [
      "The autoreload extension is already loaded. To reload it, use:\n",
      "  %reload_ext autoreload\n"
     ]
    }
   ],
   "source": [
    "# general imports\n",
    "from __future__ import print_function\n",
    "%matplotlib inline\n",
    "%load_ext autoreload\n",
    "%autoreload 2\n",
    "import numpy as np\n",
    "import tables\n",
    "import pandas as pd\n",
    "import time\n",
    "import matplotlib\n",
    "import matplotlib.pyplot as plt\n",
    "from matplotlib.mlab import griddata\n",
    "matplotlib.style.use('ggplot')"
   ]
  },
  {
   "cell_type": "code",
   "execution_count": 20,
   "metadata": {
    "collapsed": false
   },
   "outputs": [
    {
     "name": "stdout",
     "output_type": "stream",
     "text": [
      "last visit 21/11/2016 at 17:19:09\n"
     ]
    }
   ],
   "source": [
    "idate, ihour = time.strftime(\"%d/%m/%Y\"), time.strftime(\"%H:%M:%S\")\n",
    "print('last visit {} at {}'.format(idate, ihour))"
   ]
  },
  {
   "cell_type": "code",
   "execution_count": 21,
   "metadata": {
    "collapsed": true
   },
   "outputs": [],
   "source": [
    "idir = '/Users/hernando/Investigacion/NEXT/Data/NEWStar/pmtcalib/161117/'\n",
    "#runs = [1994, 2012, 2014, 2063, 2064, 2065, 2066, 2068, 2069, 2070]\n",
    "runs = [2843, 2844, 2845]"
   ]
  },
  {
   "cell_type": "code",
   "execution_count": 22,
   "metadata": {
    "collapsed": false
   },
   "outputs": [],
   "source": [
    "def getpan(irun):\n",
    "    ifile = 'calf_R'+str(irun)+'_pg_panda.h5'\n",
    "    store = pd.HDFStore(idir+ifile)\n",
    "    pan = store.df\n",
    "    return pan\n",
    "\n",
    "pans = map(getpan, runs)"
   ]
  },
  {
   "cell_type": "code",
   "execution_count": 23,
   "metadata": {
    "collapsed": false
   },
   "outputs": [],
   "source": [
    "nruns = len(runs)\n",
    "def var(label,k):\n",
    "    return np.array(map(lambda i: pans[i][label][k], range(nruns)))\n",
    "\n",
    "nsens = 12\n",
    "sens = range(nsens)"
   ]
  },
  {
   "cell_type": "code",
   "execution_count": 24,
   "metadata": {
    "collapsed": false
   },
   "outputs": [
    {
     "name": "stdout",
     "output_type": "stream",
     "text": [
      "['chi2', 'gain', 'indexes', 'noise', 'noise-pe', 'ntot', 'pedestal', 'pes']\n"
     ]
    }
   ],
   "source": [
    "labels = map(str, pans[0].columns)\n",
    "print(labels)\n",
    "dopan = {}\n",
    "for label in labels:\n",
    "    vmean, vstd = [], []\n",
    "    for i in range(nsens):\n",
    "        xvar = var(label,i)\n",
    "        vmean.append(np.mean(xvar))\n",
    "        vstd.append(np.std(xvar))\n",
    "    dopan[label] = np.array(vmean)\n",
    "    dopan['e'+label] =np.array(vstd)\n",
    "opan = pd.DataFrame(dopan)"
   ]
  },
  {
   "cell_type": "code",
   "execution_count": 25,
   "metadata": {
    "collapsed": false
   },
   "outputs": [
    {
     "data": {
      "text/html": [
       "<div>\n",
       "<table border=\"1\" class=\"dataframe\">\n",
       "  <thead>\n",
       "    <tr style=\"text-align: right;\">\n",
       "      <th></th>\n",
       "      <th>chi2</th>\n",
       "      <th>echi2</th>\n",
       "      <th>egain</th>\n",
       "      <th>eindexes</th>\n",
       "      <th>enoise</th>\n",
       "      <th>enoise-pe</th>\n",
       "      <th>entot</th>\n",
       "      <th>epedestal</th>\n",
       "      <th>epes</th>\n",
       "      <th>gain</th>\n",
       "      <th>indexes</th>\n",
       "      <th>noise</th>\n",
       "      <th>noise-pe</th>\n",
       "      <th>ntot</th>\n",
       "      <th>pedestal</th>\n",
       "      <th>pes</th>\n",
       "    </tr>\n",
       "  </thead>\n",
       "  <tbody>\n",
       "    <tr>\n",
       "      <th>0</th>\n",
       "      <td>0.866682</td>\n",
       "      <td>0.067458</td>\n",
       "      <td>5.220553</td>\n",
       "      <td>0.0</td>\n",
       "      <td>0.234259</td>\n",
       "      <td>2.544122</td>\n",
       "      <td>85.896624</td>\n",
       "      <td>0.232422</td>\n",
       "      <td>0.065170</td>\n",
       "      <td>17.374153</td>\n",
       "      <td>11.0</td>\n",
       "      <td>7.733708</td>\n",
       "      <td>8.718711</td>\n",
       "      <td>74755.410295</td>\n",
       "      <td>0.026982</td>\n",
       "      <td>0.323396</td>\n",
       "    </tr>\n",
       "    <tr>\n",
       "      <th>1</th>\n",
       "      <td>0.791758</td>\n",
       "      <td>0.091513</td>\n",
       "      <td>0.394275</td>\n",
       "      <td>0.0</td>\n",
       "      <td>0.004956</td>\n",
       "      <td>0.407370</td>\n",
       "      <td>53.860870</td>\n",
       "      <td>0.070934</td>\n",
       "      <td>0.123801</td>\n",
       "      <td>24.199667</td>\n",
       "      <td>9.0</td>\n",
       "      <td>7.444395</td>\n",
       "      <td>9.065771</td>\n",
       "      <td>74697.416073</td>\n",
       "      <td>0.014963</td>\n",
       "      <td>0.299493</td>\n",
       "    </tr>\n",
       "    <tr>\n",
       "      <th>2</th>\n",
       "      <td>0.865099</td>\n",
       "      <td>0.100698</td>\n",
       "      <td>4.958878</td>\n",
       "      <td>0.0</td>\n",
       "      <td>0.287866</td>\n",
       "      <td>2.312054</td>\n",
       "      <td>173.064619</td>\n",
       "      <td>0.160210</td>\n",
       "      <td>0.085917</td>\n",
       "      <td>18.696748</td>\n",
       "      <td>0.0</td>\n",
       "      <td>7.661508</td>\n",
       "      <td>11.190349</td>\n",
       "      <td>74772.559238</td>\n",
       "      <td>0.054017</td>\n",
       "      <td>0.423005</td>\n",
       "    </tr>\n",
       "    <tr>\n",
       "      <th>3</th>\n",
       "      <td>0.788858</td>\n",
       "      <td>0.025551</td>\n",
       "      <td>0.399306</td>\n",
       "      <td>0.0</td>\n",
       "      <td>0.085063</td>\n",
       "      <td>0.271979</td>\n",
       "      <td>27.084305</td>\n",
       "      <td>0.106340</td>\n",
       "      <td>0.137017</td>\n",
       "      <td>21.084085</td>\n",
       "      <td>5.0</td>\n",
       "      <td>7.975960</td>\n",
       "      <td>6.881789</td>\n",
       "      <td>74695.559138</td>\n",
       "      <td>0.110717</td>\n",
       "      <td>0.323149</td>\n",
       "    </tr>\n",
       "    <tr>\n",
       "      <th>4</th>\n",
       "      <td>1.050877</td>\n",
       "      <td>0.079694</td>\n",
       "      <td>0.145049</td>\n",
       "      <td>0.0</td>\n",
       "      <td>0.050259</td>\n",
       "      <td>0.304333</td>\n",
       "      <td>36.271333</td>\n",
       "      <td>0.154773</td>\n",
       "      <td>0.118098</td>\n",
       "      <td>33.504469</td>\n",
       "      <td>7.0</td>\n",
       "      <td>6.641882</td>\n",
       "      <td>12.146020</td>\n",
       "      <td>74664.520914</td>\n",
       "      <td>0.188190</td>\n",
       "      <td>0.276615</td>\n",
       "    </tr>\n",
       "    <tr>\n",
       "      <th>5</th>\n",
       "      <td>0.914978</td>\n",
       "      <td>0.036246</td>\n",
       "      <td>0.475770</td>\n",
       "      <td>0.0</td>\n",
       "      <td>0.021971</td>\n",
       "      <td>0.361981</td>\n",
       "      <td>38.633282</td>\n",
       "      <td>0.147233</td>\n",
       "      <td>0.138073</td>\n",
       "      <td>24.907713</td>\n",
       "      <td>2.0</td>\n",
       "      <td>7.953913</td>\n",
       "      <td>9.195239</td>\n",
       "      <td>74665.497290</td>\n",
       "      <td>0.159270</td>\n",
       "      <td>0.349269</td>\n",
       "    </tr>\n",
       "    <tr>\n",
       "      <th>6</th>\n",
       "      <td>0.791826</td>\n",
       "      <td>0.087007</td>\n",
       "      <td>0.184429</td>\n",
       "      <td>0.0</td>\n",
       "      <td>0.012355</td>\n",
       "      <td>0.253059</td>\n",
       "      <td>37.833298</td>\n",
       "      <td>0.057707</td>\n",
       "      <td>0.144972</td>\n",
       "      <td>20.096798</td>\n",
       "      <td>8.0</td>\n",
       "      <td>7.162053</td>\n",
       "      <td>7.511830</td>\n",
       "      <td>74702.199447</td>\n",
       "      <td>0.057472</td>\n",
       "      <td>0.339627</td>\n",
       "    </tr>\n",
       "    <tr>\n",
       "      <th>7</th>\n",
       "      <td>0.900190</td>\n",
       "      <td>0.045131</td>\n",
       "      <td>1.012323</td>\n",
       "      <td>0.0</td>\n",
       "      <td>0.082451</td>\n",
       "      <td>0.723864</td>\n",
       "      <td>51.524886</td>\n",
       "      <td>0.198711</td>\n",
       "      <td>0.167839</td>\n",
       "      <td>22.521606</td>\n",
       "      <td>1.0</td>\n",
       "      <td>7.600892</td>\n",
       "      <td>10.631828</td>\n",
       "      <td>74676.412768</td>\n",
       "      <td>0.032616</td>\n",
       "      <td>0.443344</td>\n",
       "    </tr>\n",
       "    <tr>\n",
       "      <th>8</th>\n",
       "      <td>0.641372</td>\n",
       "      <td>0.028174</td>\n",
       "      <td>0.446473</td>\n",
       "      <td>0.0</td>\n",
       "      <td>0.031230</td>\n",
       "      <td>0.257461</td>\n",
       "      <td>57.149937</td>\n",
       "      <td>0.170684</td>\n",
       "      <td>0.118217</td>\n",
       "      <td>24.596747</td>\n",
       "      <td>4.0</td>\n",
       "      <td>9.290181</td>\n",
       "      <td>8.463713</td>\n",
       "      <td>74647.741185</td>\n",
       "      <td>0.051376</td>\n",
       "      <td>0.291607</td>\n",
       "    </tr>\n",
       "    <tr>\n",
       "      <th>9</th>\n",
       "      <td>0.855621</td>\n",
       "      <td>0.032310</td>\n",
       "      <td>0.260761</td>\n",
       "      <td>0.0</td>\n",
       "      <td>0.036059</td>\n",
       "      <td>0.200285</td>\n",
       "      <td>16.283709</td>\n",
       "      <td>0.085588</td>\n",
       "      <td>0.114947</td>\n",
       "      <td>22.373794</td>\n",
       "      <td>6.0</td>\n",
       "      <td>6.188105</td>\n",
       "      <td>8.364551</td>\n",
       "      <td>74694.284147</td>\n",
       "      <td>0.121000</td>\n",
       "      <td>0.279187</td>\n",
       "    </tr>\n",
       "    <tr>\n",
       "      <th>10</th>\n",
       "      <td>0.919519</td>\n",
       "      <td>0.085047</td>\n",
       "      <td>0.657786</td>\n",
       "      <td>0.0</td>\n",
       "      <td>0.054902</td>\n",
       "      <td>0.482660</td>\n",
       "      <td>29.882429</td>\n",
       "      <td>0.159770</td>\n",
       "      <td>0.108702</td>\n",
       "      <td>18.540062</td>\n",
       "      <td>10.0</td>\n",
       "      <td>7.993523</td>\n",
       "      <td>5.675648</td>\n",
       "      <td>74623.378978</td>\n",
       "      <td>0.252270</td>\n",
       "      <td>0.294871</td>\n",
       "    </tr>\n",
       "    <tr>\n",
       "      <th>11</th>\n",
       "      <td>0.856107</td>\n",
       "      <td>0.099811</td>\n",
       "      <td>0.242172</td>\n",
       "      <td>0.0</td>\n",
       "      <td>0.024924</td>\n",
       "      <td>0.249253</td>\n",
       "      <td>14.855227</td>\n",
       "      <td>0.069604</td>\n",
       "      <td>0.098758</td>\n",
       "      <td>24.513960</td>\n",
       "      <td>3.0</td>\n",
       "      <td>7.482910</td>\n",
       "      <td>10.077683</td>\n",
       "      <td>74678.311599</td>\n",
       "      <td>-0.023747</td>\n",
       "      <td>0.245342</td>\n",
       "    </tr>\n",
       "  </tbody>\n",
       "</table>\n",
       "</div>"
      ],
      "text/plain": [
       "        chi2     echi2     egain  eindexes    enoise  enoise-pe       entot  \\\n",
       "0   0.866682  0.067458  5.220553       0.0  0.234259   2.544122   85.896624   \n",
       "1   0.791758  0.091513  0.394275       0.0  0.004956   0.407370   53.860870   \n",
       "2   0.865099  0.100698  4.958878       0.0  0.287866   2.312054  173.064619   \n",
       "3   0.788858  0.025551  0.399306       0.0  0.085063   0.271979   27.084305   \n",
       "4   1.050877  0.079694  0.145049       0.0  0.050259   0.304333   36.271333   \n",
       "5   0.914978  0.036246  0.475770       0.0  0.021971   0.361981   38.633282   \n",
       "6   0.791826  0.087007  0.184429       0.0  0.012355   0.253059   37.833298   \n",
       "7   0.900190  0.045131  1.012323       0.0  0.082451   0.723864   51.524886   \n",
       "8   0.641372  0.028174  0.446473       0.0  0.031230   0.257461   57.149937   \n",
       "9   0.855621  0.032310  0.260761       0.0  0.036059   0.200285   16.283709   \n",
       "10  0.919519  0.085047  0.657786       0.0  0.054902   0.482660   29.882429   \n",
       "11  0.856107  0.099811  0.242172       0.0  0.024924   0.249253   14.855227   \n",
       "\n",
       "    epedestal      epes       gain  indexes     noise   noise-pe  \\\n",
       "0    0.232422  0.065170  17.374153     11.0  7.733708   8.718711   \n",
       "1    0.070934  0.123801  24.199667      9.0  7.444395   9.065771   \n",
       "2    0.160210  0.085917  18.696748      0.0  7.661508  11.190349   \n",
       "3    0.106340  0.137017  21.084085      5.0  7.975960   6.881789   \n",
       "4    0.154773  0.118098  33.504469      7.0  6.641882  12.146020   \n",
       "5    0.147233  0.138073  24.907713      2.0  7.953913   9.195239   \n",
       "6    0.057707  0.144972  20.096798      8.0  7.162053   7.511830   \n",
       "7    0.198711  0.167839  22.521606      1.0  7.600892  10.631828   \n",
       "8    0.170684  0.118217  24.596747      4.0  9.290181   8.463713   \n",
       "9    0.085588  0.114947  22.373794      6.0  6.188105   8.364551   \n",
       "10   0.159770  0.108702  18.540062     10.0  7.993523   5.675648   \n",
       "11   0.069604  0.098758  24.513960      3.0  7.482910  10.077683   \n",
       "\n",
       "            ntot  pedestal       pes  \n",
       "0   74755.410295  0.026982  0.323396  \n",
       "1   74697.416073  0.014963  0.299493  \n",
       "2   74772.559238  0.054017  0.423005  \n",
       "3   74695.559138  0.110717  0.323149  \n",
       "4   74664.520914  0.188190  0.276615  \n",
       "5   74665.497290  0.159270  0.349269  \n",
       "6   74702.199447  0.057472  0.339627  \n",
       "7   74676.412768  0.032616  0.443344  \n",
       "8   74647.741185  0.051376  0.291607  \n",
       "9   74694.284147  0.121000  0.279187  \n",
       "10  74623.378978  0.252270  0.294871  \n",
       "11  74678.311599 -0.023747  0.245342  "
      ]
     },
     "execution_count": 25,
     "metadata": {},
     "output_type": "execute_result"
    }
   ],
   "source": [
    "opan"
   ]
  },
  {
   "cell_type": "code",
   "execution_count": 26,
   "metadata": {
    "collapsed": false
   },
   "outputs": [
    {
     "data": {
      "image/png": "[encoded data removed]",
      "text/plain": [
       "<matplotlib.figure.Figure at 0x119c4d050>"
      ]
     },
     "metadata": {},
     "output_type": "display_data"
    },
    {
     "data": {
      "image/png": "[encoded data removed]",
      "text/plain": [
       "<matplotlib.figure.Figure at 0x119c4ffd0>"
      ]
     },
     "metadata": {},
     "output_type": "display_data"
    }
   ],
   "source": [
    "import calib as sc\n",
    "\n",
    "again = [22.91, 23.75, 25.3, 25.99, 23.70, 20.89, 22.13, 33.09, 20.43, 25.16, 15.85, 18.21]\n",
    "aegain = [0.14, 0.17, 0.09, 0.09, 0.08, 0.11, 0.08, 0.06, 0.11, 0.07, 0.25, 0.15]\n",
    "\n",
    "anoise_pe = [9.69, 10.73, 9.27, 9.88, 8.32, 7.03, 7.85, 12.01, 7.18, 8.72, 7.20, 8.17] \n",
    "aenoise_pe = [0.12, 0.14, 0.10, 0.09, 0.09, 0.11, 0.09, 0.07, 0.11, 0.08, 0.18, 0.13]\n",
    "\n",
    "def xyey_(label):\n",
    "    x = opan['indexes']\n",
    "    y = opan[label]\n",
    "    ey = opan['e'+label]\n",
    "    vals = zip(x.values,y.values,ey.values)\n",
    "    vals.sort()\n",
    "    x = np.array(map(lambda val: val[0], vals))\n",
    "    y = np.array(map(lambda val: val[1], vals))\n",
    "    ey = np.array(map(lambda val: val[2], vals))\n",
    "    return x,y,ey\n",
    "\n",
    "def polo_sens(labels, title=''):\n",
    "    n = len(labels)\n",
    "    nx, ny, figsize = sc.plt_subplots(n)\n",
    "    fig, axes = plt.subplots(nx, ny, figsize=figsize)\n",
    "    plt.suptitle(title)\n",
    "    for i, label in enumerate(labels):\n",
    "        ax = plt.subplot(nx, ny, i+1)\n",
    "        x, y, ey = xyey_(label)\n",
    "        ax.errorbar(x, y, ey, fmt='o', label='IC')\n",
    "        if (label == 'gain'):\n",
    "            ax.errorbar(x, again, aegain, fmt='*', label='DB')\n",
    "        if (label == 'noise-pe'):\n",
    "            ax.errorbar(x, anoise_pe, aenoise_pe, fmt='*', label='DB')\n",
    "        ax.legend()\n",
    "        plt.xlim(-1.,12.)\n",
    "        ax.set_title(label)\n",
    "    fig.tight_layout()\n",
    "    plt.show()\n",
    "    return fig\n",
    "\n",
    "\n",
    "ilabels = ['gain','noise','noise-pe','chi2','pedestal','pes']\n",
    "fig = polo_sens(ilabels)\n",
    "fig.savefig(idir+'pmt_calib_summary.pdf')\n",
    "\n",
    "ilabels = ['gain', 'noise-pe']\n",
    "fig = polo_sens(ilabels, 'pmt-calib [2843, 2844, 2845]')\n",
    "fig.savefig(idir+'pmt_calib_summary_main.pdf')\n",
    "\n"
   ]
  },
  {
   "cell_type": "code",
   "execution_count": 27,
   "metadata": {
    "collapsed": false
   },
   "outputs": [
    {
     "data": {
      "text/plain": [
       "[<matplotlib.lines.Line2D at 0x118489850>]"
      ]
     },
     "execution_count": 27,
     "metadata": {},
     "output_type": "execute_result"
    },
    {
     "data": {
      "image/png": "[encoded data removed]",
      "text/plain": [
       "<matplotlib.figure.Figure at 0x118864790>"
      ]
     },
     "metadata": {},
     "output_type": "display_data"
    }
   ],
   "source": [
    "rat = opan['noise-pe']/opan['gain']\n",
    "plt.plot(rat, marker='*')"
   ]
  },
  {
   "cell_type": "code",
   "execution_count": 29,
   "metadata": {
    "collapsed": false
   },
   "outputs": [],
   "source": [
    "opan.to_csv(idir+'pmt_calib_summary.cvs')\n",
    "opan.to_hdf(idir+'pmt_calib_summary.h5','df',mode='w',format='table',data_columns=True)"
   ]
  },
  {
   "cell_type": "code",
   "execution_count": null,
   "metadata": {
    "collapsed": true
   },
   "outputs": [],
   "source": []
  },
  {
   "cell_type": "code",
   "execution_count": null,
   "metadata": {
    "collapsed": true
   },
   "outputs": [],
   "source": []
  },
  {
   "cell_type": "code",
   "execution_count": null,
   "metadata": {
    "collapsed": true
   },
   "outputs": [],
   "source": []
  }
 ],
 "metadata": {
  "anaconda-cloud": {},
  "kernelspec": {
   "display_name": "Python [Root]",
   "language": "python",
   "name": "Python [Root]"
  },
  "language_info": {
   "codemirror_mode": {
    "name": "ipython",
    "version": 2
   },
   "file_extension": ".py",
   "mimetype": "text/x-python",
   "name": "python",
   "nbconvert_exporter": "python",
   "pygments_lexer": "ipython2",
   "version": "2.7.12"
  }
 },
 "nbformat": 4,
 "nbformat_minor": 0
}
